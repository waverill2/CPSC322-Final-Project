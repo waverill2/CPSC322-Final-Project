{
 "cells": [
  {
   "cell_type": "markdown",
   "metadata": {},
   "source": [
    "# Josh Seward & Weston Averill  \n",
    "# All-Star Player Prediction  \n",
    "# Project Proposal \n",
    "<br>\n",
    "\n",
    "##### Dataset Description:  \n",
    " \n",
    "We are using multiple datasets from \"The History of Baseball\" and \"Baseball Databank\" on kaggle. These datasets contain baseball stats on players that include batting stats, fielding stats, team, position, and many more, using all-star status for classification. \n",
    "\n",
    "##### Implementation/technical merit:  \n",
    "\n",
    "The first step in our pre-proccessing will be to get all of our data into one dataset using joins. Since the datasets contain baseball stats from the year 1884 to 2015, the possible values for attributes have changed overtime. Due to the constantly changing leagues, teams, and rosters, the data will not be uniform and we will have to go through what is there to clean it up. Trends in the stats have changed overtime as well, so we may have to down-sample our dataset to data that is more recent. It may also be helpful for us to manually add data up to the past baseball season (2021) to have the most current data. \n",
    "\n",
    "##### Potential impact of the results:  \n",
    "\n",
    "Our results could be useful to baseball fans, teams, and sports betters to gain a better understanding of baseball stats and trends from the past, and predictions for the future. \n"
   ]
  }
 ],
 "metadata": {
  "interpreter": {
   "hash": "9c6ae2141ec95f90228165d609f5c6440e8b3f0ae3ee61446ab2269653dd8767"
  },
  "kernelspec": {
   "display_name": "Python 3.9.7 ('CPSC313')",
   "language": "python",
   "name": "python3"
  },
  "language_info": {
   "name": "python",
   "version": "3.9.7"
  },
  "orig_nbformat": 4
 },
 "nbformat": 4,
 "nbformat_minor": 2
}
