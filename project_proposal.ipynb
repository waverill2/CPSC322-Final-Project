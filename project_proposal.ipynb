{
 "cells": [
  {
   "cell_type": "markdown",
   "metadata": {},
   "source": [
    "# Josh Seward & Weston Averill  \n",
    "# All-Star Player Prediction  \n",
    "# Project Proposal \n",
    "\n",
    "##### Dataset Description:  \n",
    " \n",
    "We are using multiple datasets from \"The History of Baseball\" and \"Baseball Databank\" on kaggle. These datasets contain baseball stats on players that include batting stats, fielding stats, team, position, and many more, using all-star status for classification. \n",
    "\n",
    "##### Implementation/technical merit  \n",
    "\n",
    "The first step in our pre-proccessing will be to get all of our data into one dataset using joins. Since the datasets contains baseball stats from the year 1884 to 2015, the possible values for attributes have changed overtime. For example, team names and leagues now are different than in early history baseball. Trends in the stats could have changed overtime as well, so we may have to down-sample our dataset to data that is similar to current data. It may also be helpful for us to manually add data up to the past baseball season(2021) to have the most current data. \n",
    "\n",
    "##### Potential impact of the results\n",
    "\n",
    "Our results could be useful to baseball fans, teams, and sports betters to gain a better understanding of baseball stats and trends from the past, and predictions for the future. \n"
   ]
  }
 ],
 "metadata": {
  "language_info": {
   "name": "python"
  },
  "orig_nbformat": 4
 },
 "nbformat": 4,
 "nbformat_minor": 2
}
