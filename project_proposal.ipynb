{
 "cells": [
  {
   "cell_type": "markdown",
   "metadata": {},
   "source": [
    "# Josh Seward & Weston Averill  \n",
    "# World Series Prediction\n",
    "### Project Proposal \n",
    "\n",
    "##### Dataset Description:  \n",
    " \n",
    "We are using the postseason.csv dataset from \"The History of Baseball\" on kaggle. This dataset contains baseball stats on teams that have made it to the playoffs including team name, the round they made it to, league, wins and losses.   \n",
    "TODO: which attributes to use for prediction and what are we predicting\n",
    "\n",
    "##### Implementation/technical merit  \n",
    "\n",
    "Since the dataset contains baseball stats from the year 1884 to 2015, the possible values for attributes have changed overtime. For example, team names and leagues now are different than in early history baseball. We may have to limit the data we look at in our dataset to data that is similar to current baseball data. Since the dataset only goes up to the year 2015, we may have to manually add data up to the last baseball season(2021). \n",
    "\n",
    "##### Potential impact of the results\n",
    "\n",
    "Our results could be useful to baseball fans, teams, and sports betters to gain a better understanding of baseball stats from the past, and predictions for the future. \n"
   ]
  }
 ],
 "metadata": {
  "language_info": {
   "name": "python"
  },
  "orig_nbformat": 4
 },
 "nbformat": 4,
 "nbformat_minor": 2
}
