{
 "cells": [
  {
   "cell_type": "markdown",
   "metadata": {},
   "source": [
    "# Exploring the Baseball Dataset to Predict All Stars\n",
    "\n",
    "Dataset from [kaggle](https://www.kaggle.com/datasets/seanlahman/the-history-of-baseball?resource=download)\n",
    "\n",
    "This dataset is heavily skewed with many more non All Star players than All Star players. To solve this, we need to down-size the table and discretize the values so we can accurately classify whether a player will be an All Star."
   ]
  },
  {
   "cell_type": "code",
   "execution_count": 4,
   "metadata": {},
   "outputs": [],
   "source": [
    "import importlib\n",
    "import os\n",
    "import copy\n",
    "import myutils\n",
    "import random\n",
    "importlib.reload(myutils)\n",
    "\n",
    "import mypytable as mypytable\n",
    "importlib.reload(mypytable)\n",
    "\n",
    "import plot_utils\n",
    "importlib.reload(plot_utils)\n",
    "\n",
    "# put data into a table\n",
    "path = os.path.join(\"output_data\", \"batting_fielding_joined.txt\")\n",
    "batting_fielding_joined = mypytable.MyPyTable().load_from_file(path)\n",
    "batting_fielding_joined.drop_column(\"playerID\")\n",
    "table_copy = copy.deepcopy(batting_fielding_joined.data)\n",
    "\n",
    "for row in table_copy:\n",
    "    for i in range(len(row)):\n",
    "        row[i] = str(row[i])\n",
    "\n",
    "# separating allstars from non-allstars to make the dataset\n",
    "rows_of_allstar = []\n",
    "rows_of_nonallstar = []\n",
    "for row in table_copy:\n",
    "    if row[-1] == \"true\":\n",
    "        rows_of_allstar.append(row)\n",
    "    else:\n",
    "        rows_of_nonallstar.append(row)\n",
    "\n",
    "# take 524 non-allstars to form even class distribution\n",
    "random.shuffle(rows_of_nonallstar)\n",
    "new_non_allstar = []\n",
    "for i in range(524):\n",
    "    new_non_allstar.append(rows_of_nonallstar[i])\n",
    "table_copy = rows_of_allstar + new_non_allstar\n",
    "random.shuffle(table_copy)\n",
    "\n",
    "final_table = mypytable.MyPyTable(column_names=batting_fielding_joined.column_names, data=table_copy)\n",
    "final_table_filename = 'final_table.txt'\n",
    "final_table_path = os.path.join('output_data', final_table_filename)\n",
    "final_table.save_to_file(filename=final_table_path)"
   ]
  },
  {
   "cell_type": "markdown",
   "metadata": {},
   "source": [
    "## Exploring our Working Dataset\n",
    "\n",
    "First, let's look at the number of players from each year in the dataset."
   ]
  },
  {
   "cell_type": "code",
   "execution_count": 17,
   "metadata": {},
   "outputs": [
    {
     "data": {
      "image/png": "[encoded data removed]",
      "text/plain": [
       "<Figure size 432x288 with 1 Axes>"
      ]
     },
     "metadata": {
      "needs_background": "light"
     },
     "output_type": "display_data"
    }
   ],
   "source": [
    "importlib.reload(plot_utils)\n",
    "\n",
    "# get the number of players from each year\n",
    "year_column_name = \"yearID\"\n",
    "year_column_index = final_table.column_names.index(year_column_name)\n",
    "players_per_year_dict = dict()\n",
    "for row in final_table.data:\n",
    "    player_year = row[year_column_index]\n",
    "    if players_per_year_dict.get(player_year) is None:\n",
    "        players_per_year_dict[player_year] = 1\n",
    "    else:\n",
    "        players_per_year_dict[player_year] += 1\n",
    "\n",
    "# sort the data by year\n",
    "sorted_keys = sorted(list(players_per_year_dict.keys()))\n",
    "sorted_players_per_year_dict = dict()\n",
    "for key in sorted_keys:\n",
    "    sorted_players_per_year_dict[key] = players_per_year_dict[key]\n",
    "\n",
    "# create a bar chart from the data TODO - label the chart better\n",
    "plot_utils.plot_bar_chart(x_values=list(sorted_players_per_year_dict.keys()), y_values=list(sorted_players_per_year_dict.values()), \n",
    "    x_tick_labels=list(sorted_players_per_year_dict.keys()))"
   ]
  },
  {
   "cell_type": "markdown",
   "metadata": {},
   "source": [
    "This bar chart shows us that we have slightly more data from recent years. This makes sense because as time progresses, professional athletes' stats are measured more carefully. We will keep this in mind when making predictions, as the predictions will be more accurate for players playing in more recent seasons.\n",
    "\n",
    "Now, let's take a look at the number of games played for each player in our dataset so we can make sure there is a good spread of players who have played only a few games and players who have played a lot of games. We want more players with a large number of games played so thereare more accurate statistics for them. These values have been discretized already to make this process easier."
   ]
  },
  {
   "cell_type": "code",
   "execution_count": 21,
   "metadata": {},
   "outputs": [
    {
     "data": {
      "image/png": "[encoded data removed]",
      "text/plain": [
       "<Figure size 432x288 with 1 Axes>"
      ]
     },
     "metadata": {
      "needs_background": "light"
     },
     "output_type": "display_data"
    }
   ],
   "source": [
    "importlib.reload(plot_utils)\n",
    "\n",
    "# get the number of players with each deiscretized value of games played\n",
    "games_played_column_name = \"G\"\n",
    "games_played_column_index = final_table.column_names.index(games_played_column_name)\n",
    "players_per_games_played_dict = dict()\n",
    "for row in final_table.data:\n",
    "    player_games_played = row[games_played_column_index]\n",
    "    if players_per_games_played_dict.get(player_games_played) is None:\n",
    "        players_per_games_played_dict[player_games_played] = 1\n",
    "    else:\n",
    "        players_per_games_played_dict[player_games_played] += 1\n",
    "\n",
    "# sort the data by games played\n",
    "sorted_keys = sorted(list(players_per_games_played_dict.keys()))\n",
    "sorted_players_per_games_played_dict = dict()\n",
    "for key in sorted_keys:\n",
    "    sorted_players_per_games_played_dict[key] = players_per_games_played_dict[key]\n",
    "\n",
    "# create a bar chart from the data TODO - label the chart better\n",
    "plot_utils.plot_bar_chart(x_values=list(sorted_players_per_games_played_dict.keys()), y_values=list(sorted_players_per_games_played_dict.values()), \n",
    "    x_tick_labels=list(sorted_players_per_games_played_dict.keys()))"
   ]
  },
  {
   "cell_type": "markdown",
   "metadata": {},
   "source": [
    "This was not the spread of data we were expecting. Despite this, we do have the large number of players with high games played. On the other hand, there are not many players with an \"average\" number of games played in our dataset. These two observations tell us that the predictions might not be all that accurate for the average player, however the average player should not be an All Star, so this should not pose too much of an issue."
   ]
  }
 ],
 "metadata": {
  "interpreter": {
   "hash": "d4d1e4263499bec80672ea0156c357c1ee493ec2b1c70f0acce89fc37c4a6abe"
  },
  "kernelspec": {
   "display_name": "Python 3.9.7 ('base')",
   "language": "python",
   "name": "python3"
  },
  "language_info": {
   "codemirror_mode": {
    "name": "ipython",
    "version": 3
   },
   "file_extension": ".py",
   "mimetype": "text/x-python",
   "name": "python",
   "nbconvert_exporter": "python",
   "pygments_lexer": "ipython3",
   "version": "3.9.7"
  },
  "orig_nbformat": 4
 },
 "nbformat": 4,
 "nbformat_minor": 2
}
