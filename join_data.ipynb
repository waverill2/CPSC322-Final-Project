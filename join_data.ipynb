{
 "cells": [
  {
   "cell_type": "code",
   "execution_count": 59,
   "metadata": {},
   "outputs": [],
   "source": [
    "import importlib\n",
    "import os\n",
    "import copy\n",
    "import myutils\n",
    "importlib.reload(myutils)\n",
    "from mypytable import MyPyTable\n",
    "\n",
    "fname = os.path.join(\"input_data\", \"AllstarFull.csv\")\n",
    "allstar_table = MyPyTable().load_from_file(fname)\n",
    "# print(allstar_table.data)\n",
    "\n",
    "fname = os.path.join(\"input_data\", \"Batting.csv\")\n",
    "# batting_table = MyPyTable().load_from_file(fname)\n",
    "# print(batting_table.data)\n",
    "\n",
    "fname = os.path.join(\"input_data\", \"Fielding.csv\")\n",
    "# fielding_table = MyPyTable().load_from_file(fname)\n",
    "# print(fielding_table)\n",
    "\n",
    "fname = os.path.join(\"input_data\", \"player.csv\")\n",
    "player_table = MyPyTable().load_from_file(fname)\n",
    "# print(fielding_table)\n",
    "\n",
    "''' first drop rows from table if they are not in year 2000-2015 '''\n",
    "# use this code for all three datasets\n",
    "# lst_of_indices = [i for i in range(3916)]\n",
    "# allstar_table.drop_rows(lst_of_indices)\n",
    "# allstar_table_clean = os.path.join(\"output_data\", \"Allstar.txt\")\n",
    "# allstar_table.save_to_file(allstar_table_clean)\n",
    "\n",
    "\n",
    "\n",
    "\n"
   ]
  },
  {
   "cell_type": "code",
   "execution_count": 21,
   "metadata": {},
   "outputs": [
    {
     "name": "stdout",
     "output_type": "stream",
     "text": [
      "[['weston', 1, 3], ['mike', 2, 4]]\n",
      "['att1', 'att2', 'att4']\n"
     ]
    }
   ],
   "source": [
    "import importlib\n",
    "import os\n",
    "import copy\n",
    "import myutils\n",
    "importlib.reload(myutils)\n",
    "import mypytable as mypytable\n",
    "importlib.reload(mypytable)\n",
    "\n",
    "header = ['att1', 'att2']\n",
    "data = [['weston', 1], \n",
    "        ['mike', 2]]\n",
    "\n",
    "header2 = ['att1', 'att4']\n",
    "data2 = [['weston', 3], \n",
    "         ['mike', 4]]\n",
    "\n",
    "table1 = mypytable.MyPyTable(header, data)\n",
    "table2 = mypytable.MyPyTable(header2, data2)\n",
    "joined_table = table1.perform_inner_join(table2, [\"att1\"])\n",
    "print(joined_table.data)\n",
    "print(joined_table.column_names)"
   ]
  },
  {
   "cell_type": "code",
   "execution_count": 58,
   "metadata": {},
   "outputs": [
    {
     "name": "stdout",
     "output_type": "stream",
     "text": [
      "18846\n",
      "11888\n",
      "6958\n"
     ]
    }
   ],
   "source": [
    "import importlib\n",
    "import os\n",
    "import copy\n",
    "import myutils\n",
    "importlib.reload(myutils)\n",
    "import mypytable as mypytable\n",
    "importlib.reload(mypytable)\n",
    "\n",
    "fname = os.path.join(\"input_data\", \"player.csv\")\n",
    "player_table = MyPyTable().load_from_file(fname)\n",
    "print(len(player_table.data))\n",
    "indices_to_remove = []\n",
    "# for i, instance in enumerate(player_table.data):\n",
    "#     if int(instance[1]) < 1955:\n",
    "#         indices_to_remove.append(i)\n",
    "# player_table.drop_rows(indices_to_remove)\n",
    "i = 0\n",
    "for i, instance in enumerate(player_table.data):\n",
    "    try:\n",
    "        if instance[1] < 1955:\n",
    "            indices_to_remove.append(i)\n",
    "    except:\n",
    "        indices_to_remove.append(i)\n",
    "# print(len(indices_to_remove))\n",
    "# player_table.drop_rows(indices_to_remove)\n",
    "# print(len(player_table.data))\n",
    "# player_clean = os.path.join(\"output_data\", \"player.txt\")\n",
    "# player_table.save_to_file(player_clean)"
   ]
  }
 ],
 "metadata": {
  "interpreter": {
   "hash": "98cc8a3e9e9b1e128450920e7c198c9bd6e3908fe3cb16854537f0ebed56a5f5"
  },
  "kernelspec": {
   "display_name": "Python 3.7.9 64-bit",
   "language": "python",
   "name": "python3"
  },
  "language_info": {
   "codemirror_mode": {
    "name": "ipython",
    "version": 3
   },
   "file_extension": ".py",
   "mimetype": "text/x-python",
   "name": "python",
   "nbconvert_exporter": "python",
   "pygments_lexer": "ipython3",
   "version": "3.7.9"
  },
  "orig_nbformat": 4
 },
 "nbformat": 4,
 "nbformat_minor": 2
}
